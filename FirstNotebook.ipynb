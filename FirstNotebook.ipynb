{
    "cells": [
        {
            "cell_type": "markdown",
            "metadata": {
                "collapsed": true
            },
            "source": "# Description\nHello"
        },
        {
            "cell_type": "code",
            "execution_count": 1,
            "metadata": {},
            "outputs": [
                {
                    "data": {
                        "text/html": "<div>\n<style scoped>\n    .dataframe tbody tr th:only-of-type {\n        vertical-align: middle;\n    }\n\n    .dataframe tbody tr th {\n        vertical-align: top;\n    }\n\n    .dataframe thead th {\n        text-align: right;\n    }\n</style>\n<table border=\"1\" class=\"dataframe\">\n  <thead>\n    <tr style=\"text-align: right;\">\n      <th></th>\n      <th>LatD</th>\n      <th>\"LatM\"</th>\n      <th>\"LatS\"</th>\n      <th>\"NS\"</th>\n      <th>\"LonD\"</th>\n      <th>\"LonM\"</th>\n      <th>\"LonS\"</th>\n      <th>\"EW\"</th>\n      <th>\"City\"</th>\n      <th>\"State\"</th>\n    </tr>\n  </thead>\n  <tbody>\n    <tr>\n      <th>0</th>\n      <td>41</td>\n      <td>5</td>\n      <td>59</td>\n      <td>\"N\"</td>\n      <td>80</td>\n      <td>39</td>\n      <td>0</td>\n      <td>\"W\"</td>\n      <td>\"Youngstown\"</td>\n      <td>OH</td>\n    </tr>\n    <tr>\n      <th>1</th>\n      <td>42</td>\n      <td>52</td>\n      <td>48</td>\n      <td>\"N\"</td>\n      <td>97</td>\n      <td>23</td>\n      <td>23</td>\n      <td>\"W\"</td>\n      <td>\"Yankton\"</td>\n      <td>SD</td>\n    </tr>\n    <tr>\n      <th>2</th>\n      <td>46</td>\n      <td>35</td>\n      <td>59</td>\n      <td>\"N\"</td>\n      <td>120</td>\n      <td>30</td>\n      <td>36</td>\n      <td>\"W\"</td>\n      <td>\"Yakima\"</td>\n      <td>WA</td>\n    </tr>\n    <tr>\n      <th>3</th>\n      <td>42</td>\n      <td>16</td>\n      <td>12</td>\n      <td>\"N\"</td>\n      <td>71</td>\n      <td>48</td>\n      <td>0</td>\n      <td>\"W\"</td>\n      <td>\"Worcester\"</td>\n      <td>MA</td>\n    </tr>\n    <tr>\n      <th>4</th>\n      <td>43</td>\n      <td>37</td>\n      <td>48</td>\n      <td>\"N\"</td>\n      <td>89</td>\n      <td>46</td>\n      <td>11</td>\n      <td>\"W\"</td>\n      <td>\"Wisconsin Dells\"</td>\n      <td>WI</td>\n    </tr>\n  </tbody>\n</table>\n</div>",
                        "text/plain": "   LatD   \"LatM\"   \"LatS\"  \"NS\"   \"LonD\"   \"LonM\"   \"LonS\"  \"EW\"  \\\n0    41        5       59   \"N\"       80       39        0   \"W\"   \n1    42       52       48   \"N\"       97       23       23   \"W\"   \n2    46       35       59   \"N\"      120       30       36   \"W\"   \n3    42       16       12   \"N\"       71       48        0   \"W\"   \n4    43       37       48   \"N\"       89       46       11   \"W\"   \n\n               \"City\"  \"State\"  \n0        \"Youngstown\"       OH  \n1           \"Yankton\"       SD  \n2            \"Yakima\"       WA  \n3         \"Worcester\"       MA  \n4   \"Wisconsin Dells\"       WI  "
                    },
                    "execution_count": 1,
                    "metadata": {},
                    "output_type": "execute_result"
                }
            ],
            "source": "# The code was removed by Watson Studio for sharing."
        },
        {
            "cell_type": "code",
            "execution_count": null,
            "metadata": {},
            "outputs": [],
            "source": ""
        }
    ],
    "metadata": {
        "kernelspec": {
            "display_name": "Python 3.7",
            "language": "python",
            "name": "python3"
        },
        "language_info": {
            "codemirror_mode": {
                "name": "ipython",
                "version": 3
            },
            "file_extension": ".py",
            "mimetype": "text/x-python",
            "name": "python",
            "nbconvert_exporter": "python",
            "pygments_lexer": "ipython3",
            "version": "3.7.10"
        }
    },
    "nbformat": 4,
    "nbformat_minor": 1
}